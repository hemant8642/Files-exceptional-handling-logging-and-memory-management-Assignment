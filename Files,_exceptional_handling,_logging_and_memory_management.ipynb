{
  "nbformat": 4,
  "nbformat_minor": 0,
  "metadata": {
    "colab": {
      "provenance": []
    },
    "kernelspec": {
      "name": "python3",
      "display_name": "Python 3"
    },
    "language_info": {
      "name": "python"
    }
  },
  "cells": [
    {
      "cell_type": "markdown",
      "source": [
        "**Files, exceptional handling, logging and\n",
        "memory management Questions**"
      ],
      "metadata": {
        "id": "oR9L5hV-XLxe"
      }
    },
    {
      "cell_type": "markdown",
      "source": [
        "**1 What is the difference between interpreted and compiled languages**"
      ],
      "metadata": {
        "id": "bZpmFBpgXTjl"
      }
    },
    {
      "cell_type": "markdown",
      "source": [
        "ANS:\n",
        "The main difference between interpreted and compiled languages is how the code is executed by the computer.\n",
        "\n",
        "Compiled Languages\n",
        "\n",
        "In compiled languages, the code is first translated into machine code using a compiler. The compiler reads the source code, checks for errors, and generates an executable file that contains the machine code. This executable file can be run directly by the computer without the need for any additional software.\n",
        "\n",
        "Here's a step-by-step overview of the compilation process:\n",
        "\n",
        "1. Source code: The programmer writes the code in a high-level language (e.g., C, C++, Java).\n",
        "2. Compilation: The compiler translates the source code into machine code (e.g., assembly code or binary code).\n",
        "3. Executable file: The compiler generates an executable file that contains the machine code.\n",
        "4. Execution: The computer executes the machine code directly.\n",
        "\n",
        "Examples of compiled languages include:\n",
        "\n",
        "- C\n",
        "- C++\n",
        "- Java (although it's often referred to as a \"hybrid\" language, as it's compiled to bytecode that's then executed by a virtual machine)\n",
        "- Fortran\n",
        "\n",
        "Interpreted Languages\n",
        "\n",
        "In interpreted languages, the code is not compiled into machine code beforehand. Instead, an interpreter reads the source code line by line and executes it directly.\n",
        "\n",
        "Here's a step-by-step overview of the interpretation process:\n",
        "\n",
        "1. Source code: The programmer writes the code in a high-level language (e.g., Python, JavaScript, Ruby).\n",
        "2. Interpretation: The interpreter reads the source code line by line and executes it directly.\n",
        "3. Execution: The interpreter performs the actions specified in the code.\n",
        "\n",
        "Examples of interpreted languages include:\n",
        "\n",
        "- Python\n",
        "- JavaScript (although it's often just-in-time compiled by modern browsers)\n",
        "- Ruby\n",
        "- PHP\n",
        "\n",
        "Key differences\n",
        "\n",
        "Here are some key differences between compiled and interpreted languages:\n",
        "\n",
        "- Speed: Compiled languages are generally faster, as the machine code is executed directly by the computer. Interpreted languages can be slower, as the interpreter needs to read and execute the code line by line.\n",
        "- Error handling: Compiled languages typically catch errors during the compilation process, while interpreted languages catch errors during execution.\n",
        "- Portability: Compiled languages can be more portable, as the executable file can be run on any machine with the same architecture. Interpreted languages can be less portable, as they require the presence of an interpreter on the target machine.\n",
        "- Development speed: Interpreted languages can have a faster development cycle, as changes can be made and tested quickly without the need for recompilation.\n",
        "\n",
        "It's worth noting that some languages, like Java, use a combination of compilation and interpretation. The Java compiler translates the source code into bytecode, which is then executed by the Java Virtual Machine (JVM). This approach offers a balance between the speed of compiled languages and the flexibility of interpreted languages."
      ],
      "metadata": {
        "id": "XsIkSnqZXkWL"
      }
    },
    {
      "cell_type": "markdown",
      "source": [
        "**2 What is exception handling in Python**"
      ],
      "metadata": {
        "id": "5arT-KfIXpeL"
      }
    },
    {
      "cell_type": "markdown",
      "source": [
        "ANS:\n",
        "\n",
        "Exception handling in Python is a mechanism that allows you to handle runtime errors or unexpected events that occur during the execution of your program. It provides a way to catch and handle exceptions, preventing your program from crashing or producing unexpected results.\n",
        "\n",
        "What is an exception?\n",
        "\n",
        "An exception is an event that occurs during the execution of a program that disrupts the normal flow of instructions. It can be caused by a variety of factors, such as:\n",
        "\n",
        "- Division by zero\n",
        "- Out-of-range values\n",
        "- Invalid input\n",
        "- File not found\n",
        "- Network errors\n",
        "\n",
        "Try-Except Block\n",
        "\n",
        "The try-except block is the basic syntax for exception handling in Python. It consists of two parts:\n",
        "\n",
        "- try: This block contains the code that might raise an exception.\n",
        "- except: This block contains the code that will be executed if an exception is raised in the try block.\n"
      ],
      "metadata": {
        "id": "qlTUXBIEY5yh"
      }
    },
    {
      "cell_type": "code",
      "execution_count": 1,
      "metadata": {
        "colab": {
          "base_uri": "https://localhost:8080/"
        },
        "id": "AvZcdnj5WvH7",
        "outputId": "66abc393-0eb4-4727-9993-0e29c5bbb9f3"
      },
      "outputs": [
        {
          "output_type": "stream",
          "name": "stdout",
          "text": [
            "Cannot divide by zero!\n"
          ]
        }
      ],
      "source": [
        "#Here's an example:\n",
        "\n",
        "try:\n",
        "    x = 5 / 0\n",
        "except ZeroDivisionError:\n",
        "    print(\"Cannot divide by zero!\")"
      ]
    },
    {
      "cell_type": "markdown",
      "source": [
        "**3 What is the purpose of the finally block in exception handling**"
      ],
      "metadata": {
        "id": "SMEEte6fZQhK"
      }
    },
    {
      "cell_type": "markdown",
      "source": [
        "ANS:\n",
        "\n",
        "The finally block in exception handling is used to execute a set of statements regardless of whether an exception is thrown or not. It is typically used to perform cleanup operations, release resources, or restore the state of the program.\n",
        "\n",
        "The finally block is executed after the try and except blocks, and it is guaranteed to run even if an exception is thrown. This makes it a useful tool for ensuring that resources are properly released, files are closed, and other cleanup operations are performed.\n",
        "\n",
        "Here are some common use cases for the finally block:\n",
        "\n",
        "1. Closing files: When working with files, it's essential to close them after use to free up system resources. The finally block can be used to ensure that files are closed, even if an exception is thrown.\n",
        "2. Releasing locks: When working with locks or other synchronization primitives, it's crucial to release them after use to avoid deadlocks. The finally block can be used to ensure that locks are released, even if an exception is thrown.\n",
        "3. Restoring state: In some cases, you may need to restore the state of the program after an exception is thrown. The finally block can be used to perform this restoration.\n",
        "4. Logging: The finally block can be used to log information about the exception, even if it's not caught.\n"
      ],
      "metadata": {
        "id": "p8ZkzfzPaGop"
      }
    },
    {
      "cell_type": "code",
      "source": [
        "#Here's an example of using the finally block:\n",
        "\n",
        "try:\n",
        "    file = open(\"example.txt\", \"r\")\n",
        "    data = file.read()\n",
        "except FileNotFoundError:\n",
        "    print(\"File not found!\")\n",
        "finally:\n",
        "    if file:\n",
        "        file.close()"
      ],
      "metadata": {
        "id": "cmwnbefpZDGT"
      },
      "execution_count": null,
      "outputs": []
    },
    {
      "cell_type": "markdown",
      "source": [
        "**4 What is logging in Python**"
      ],
      "metadata": {
        "id": "WPHKPjjcaYsp"
      }
    },
    {
      "cell_type": "markdown",
      "source": [
        "ANS:\n",
        "\n",
        "Logging in Python is a mechanism for recording events that occur during the execution of a program. It allows developers to track the behavior of their code, diagnose issues, and monitor performance.\n",
        "\n",
        "The Python logging module provides a flexible and customizable way to log events. It allows you to:\n",
        "\n",
        "1. Record events: Log messages, errors, warnings, and other events that occur during the execution of your code.\n",
        "2. Configure logging: Set the logging level, format, and output destination to suit your needs.\n",
        "3. Filter and handle logs: Use filters and handlers to control which logs are recorded and how they are processed.\n",
        "\n",
        "Benefits of logging in Python:\n",
        "\n",
        "1. Debugging: Logging helps you diagnose issues and understand the behavior of your code.\n",
        "2. Monitoring: Logging allows you to monitor the performance and health of your application.\n",
        "3. Auditing: Logging provides a record of events that can be used for auditing and security purposes.\n",
        "4. Troubleshooting: Logging helps you identify and resolve issues more quickly.\n",
        "\n",
        "Basic logging concepts:\n",
        "\n",
        "1. Log levels: The severity of the log message, such as DEBUG, INFO, WARNING, ERROR, and CRITICAL.\n",
        "2. Log messages: The text that is recorded in the log, which can include variables, exceptions, and other information.\n",
        "3. Loggers: Objects that manage the logging process and determine which logs are recorded.\n",
        "4. Handlers: Objects that determine where log messages are sent, such as files, consoles, or network sockets.\n",
        "5. Formatters: Objects that control the format of log messages.\n"
      ],
      "metadata": {
        "id": "pUsFOnvNaxCp"
      }
    },
    {
      "cell_type": "code",
      "source": [
        "#Example of basic logging in Python:\n",
        "\n",
        "import logging\n",
        "\n",
        "# Set the logging level\n",
        "logging.basicConfig(level=logging.INFO)\n",
        "\n",
        "# Log a message\n",
        "logging.info(\"This is an info message\")\n",
        "\n",
        "# Log an error\n",
        "try:\n",
        "    x = 1 / 0\n",
        "except ZeroDivisionError as e:\n",
        "    logging.error(\"Error occurred\", exc_info=True)\n"
      ],
      "metadata": {
        "colab": {
          "base_uri": "https://localhost:8080/"
        },
        "id": "geozrtHWaP-k",
        "outputId": "4e327915-b0ee-4c18-8455-a072a069e176"
      },
      "execution_count": 3,
      "outputs": [
        {
          "output_type": "stream",
          "name": "stderr",
          "text": [
            "ERROR:root:Error occurred\n",
            "Traceback (most recent call last):\n",
            "  File \"<ipython-input-3-d5cc6b757cbc>\", line 13, in <cell line: 12>\n",
            "    x = 1 / 0\n",
            "ZeroDivisionError: division by zero\n"
          ]
        }
      ]
    },
    {
      "cell_type": "markdown",
      "source": [
        "**5 What is the significance of the __del__ method in Python**"
      ],
      "metadata": {
        "id": "ztg5ye65bAo7"
      }
    },
    {
      "cell_type": "markdown",
      "source": [
        "ANS:\n",
        "\n",
        "The __del__ method in Python is a special method that is called when an object is about to be destroyed. It is also known as the destructor or finalizer.\n",
        "\n",
        "The __del__ method is significant for several reasons:\n",
        "\n",
        "1. Resource cleanup: The __del__ method is used to clean up resources that were allocated by the object during its lifetime. This can include closing files, releasing locks, or freeing up memory.\n",
        "2. Finalization: The __del__ method is called when the object is no longer needed and is about to be garbage collected. This provides a chance for the object to perform any necessary finalization tasks.\n",
        "3. Debugging: The __del__ method can be used to detect and diagnose issues related to object lifetime and garbage collection.\n",
        "\n",
        "Here are some key points to keep in mind when using the __del__ method:\n",
        "\n",
        "1. Not guaranteed to be called: The __del__ method is not guaranteed to be called in all cases. For example, if the program exits abruptly or if the object is part of a reference cycle, the __del__ method may not be called.\n",
        "2. Can be delayed: The __del__ method can be delayed if the object is part of a reference cycle or if the garbage collector is unable to collect the object immediately.\n",
        "3. Should not rely on side effects: The __del__ method should not rely on side effects, such as modifying external state or raising exceptions, as these can have unintended consequences.\n",
        "\n",
        "Best practices for using the __del__ method:\n",
        "\n",
        "1. Use it sparingly: The __del__ method should be used sparingly and only when necessary.\n",
        "2. Keep it simple: The __del__ method should be kept simple and focused on cleaning up resources.\n",
        "3. Avoid relying on it: Do not rely on the __del__ method to perform critical tasks, as it may not be called in all cases.\n"
      ],
      "metadata": {
        "id": "l8DNkOW8bUuR"
      }
    },
    {
      "cell_type": "code",
      "source": [
        "#Example of using the __del__ method:\n",
        "\n",
        "class MyClass:\n",
        "    def __init__(self):\n",
        "        self.file = open(\"example.txt\", \"w\")\n",
        "\n",
        "    def __del__(self):\n",
        "        self.file.close()\n",
        "\n",
        "obj = MyClass()\n",
        "del obj  # __del__ method is called\n"
      ],
      "metadata": {
        "id": "NvauVy_za5ST"
      },
      "execution_count": 4,
      "outputs": []
    },
    {
      "cell_type": "markdown",
      "source": [
        "**6What is the difference between import and from ... import in Python**"
      ],
      "metadata": {
        "id": "QelKJHfSbhjh"
      }
    },
    {
      "cell_type": "markdown",
      "source": [
        "ANS:\n",
        "\n",
        "In Python, import and from ... import are two different ways to import modules or functions from other modules. Here's a breakdown of the differences:\n",
        "\n",
        "Import\n",
        "\n",
        "When you use the import statement, you are importing the entire module into your current namespace. This means that you can access all the functions, classes, and variables defined in the module using the module name as a prefix.\n",
        "\n",
        "Example:\n",
        "\n",
        "import math\n",
        "print(math.pi)  # prints 3.14159...\n",
        "\n",
        "In this example, we import the entire math module, and then access the pi constant using the math. prefix.\n",
        "\n",
        "From ... Import\n",
        "\n",
        "When you use the from ... import statement, you are importing specific functions, classes, or variables from a module into your current namespace. This means that you can access the imported items directly, without using the module name as a prefix.\n",
        "\n",
        "Example:\n",
        "\n",
        "from math import pi\n",
        "print(pi)  # prints 3.14159...\n",
        "\n",
        "In this example, we import only the pi constant from the math module, and then access it directly without using the math. prefix.\n",
        "\n",
        "Key differences\n",
        "\n",
        "Here are the key differences between import and from ... import:\n",
        "\n",
        "- Namespace: When you use import, the entire module is imported into your namespace, whereas with from ... import, only the specific items you import are added to your namespace.\n",
        "- Access: With import, you need to use the module name as a prefix to access the imported items, whereas with from ... import, you can access the imported items directly.\n",
        "- Pollution: Using from ... import can pollute your namespace with many imported items, making it harder to keep track of what's been imported. With import, you can avoid this pollution by using the module name as a prefix.\n",
        "\n",
        "When to use each\n",
        "\n",
        "Here are some guidelines on when to use each:\n",
        "\n",
        "- Use import when:\n",
        "    - You need to import an entire module.\n",
        "    - You want to avoid polluting your namespace with many imported items.\n",
        "    - You want to use the module name as a prefix to access the imported items.\n",
        "- Use from ... import when:\n",
        "    - You only need to import specific items from a module.\n",
        "    - You want to access the imported items directly without using the module name as a prefix.\n",
        "    - You want to simplify your code by avoiding the need to use the module name as a prefix.\n",
        "\n",
        "Ultimately, the choice between import and from ... import depends on your specific use case and personal preference."
      ],
      "metadata": {
        "id": "mqVvPN_sblzx"
      }
    },
    {
      "cell_type": "markdown",
      "source": [
        "**7  How can you handle multiple exceptions in Python**"
      ],
      "metadata": {
        "id": "G1hNhkDQb5SR"
      }
    },
    {
      "cell_type": "markdown",
      "source": [
        "ANS:\n",
        "\n",
        "In Python, you can handle multiple exceptions using a single except block or multiple except blocks. Here are a few ways to handle multiple exceptions:\n",
        "\n",
        "Method 1: Single except block with multiple exceptions\n",
        "\n",
        "You can use a single except block to catch multiple exceptions by listing them in a tuple:\n",
        "\n",
        "try:\n",
        "    # code that may raise exceptions\n",
        "except (Exception1, Exception2, Exception3) as e:\n",
        "    # handle the exceptions\n",
        "    print(f\"An error occurred: {e}\")\n",
        "\n",
        "In this example, the except block will catch any of the exceptions listed in the tuple (Exception1, Exception2, Exception3).\n",
        "\n",
        "Method 2: Multiple except blocks\n",
        "\n",
        "You can use multiple except blocks to catch different exceptions and handle them separately:\n",
        "\n",
        "try:\n",
        "    # code that may raise exceptions\n",
        "except Exception1 as e:\n",
        "    # handle Exception1\n",
        "    print(f\"Exception1 occurred: {e}\")\n",
        "except Exception2 as e:\n",
        "    # handle Exception2\n",
        "    print(f\"Exception2 occurred: {e}\")\n",
        "except Exception3 as e:\n",
        "    # handle Exception3\n",
        "    print(f\"Exception3 occurred: {e}\")\n",
        "\n",
        "In this example, each except block will catch a specific exception and handle it separately.\n",
        "\n",
        "Method 3: Catching all exceptions\n",
        "\n",
        "You can use a bare except block to catch all exceptions:\n",
        "\n",
        "try:\n",
        "    # code that may raise exceptions\n",
        "except:\n",
        "    # handle all exceptions\n",
        "    print(\"An error occurred\")\n",
        "\n",
        "However, this approach is generally discouraged because it can catch exceptions that you didn't anticipate, making it harder to debug your code.\n",
        "\n",
        "Method 4: Using a finally block\n",
        "\n",
        "You can use a finally block to execute code regardless of whether an exception was raised or not:\n",
        "\n",
        "try:\n",
        "    # code that may raise exceptions\n",
        "except Exception1 as e:\n",
        "    # handle Exception1\n",
        "    print(f\"Exception1 occurred: {e}\")\n",
        "finally:\n",
        "    # code to execute regardless of exceptions\n",
        "    print(\"Cleaning up...\")\n",
        "\n",
        "In this example, the finally block will execute regardless of whether an exception was raised or not.\n"
      ],
      "metadata": {
        "id": "gNMKnq2LcHRJ"
      }
    },
    {
      "cell_type": "markdown",
      "source": [
        "**8 What is the purpose of the with statement when handling files in Python**"
      ],
      "metadata": {
        "id": "t-t_MGN9cyIZ"
      }
    },
    {
      "cell_type": "markdown",
      "source": [
        "ANS:\n",
        "\n",
        "The with statement in Python is used to manage resources, such as files, connections, and locks, in a way that ensures they are properly cleaned up after use. When handling files, the with statement serves several purposes:\n",
        "\n",
        "1. Ensures file closure: The with statement automatically closes the file when you're done with it, even if an exception is thrown. This prevents file descriptor leaks and ensures that the file is properly closed.\n",
        "2. Provides a context: The with statement creates a context in which the file is open. This context is defined by the with block, and the file is only accessible within that block.\n",
        "3. Handles exceptions: If an exception is thrown within the with block, the file is still properly closed, ensuring that resources are not leaked.\n",
        "4. Improves code readability: The with statement makes your code more readable by clearly defining the scope of the file operation.\n",
        "\n",
        "Here's an example of using the with statement to read a file:\n",
        "\n",
        "with open('example.txt', 'r') as file:\n",
        "    contents = file.read()\n",
        "    print(contents)\n",
        "\n",
        "In this example, the file is opened in read mode ('r') and assigned to the variable file. The with statement ensures that the file is properly closed when the block is exited, regardless of whether an exception is thrown.\n",
        "\n",
        "Benefits of using the with statement:\n",
        "\n",
        "- Reduced risk of file descriptor leaks: By ensuring that files are properly closed, you reduce the risk of file descriptor leaks, which can lead to resource exhaustion and other issues.\n",
        "- Improved code reliability: The with statement helps ensure that your code is more reliable by handling exceptions and ensuring that resources are properly cleaned up.\n",
        "- Simplified code: The with statement simplifies your code by eliminating the need for explicit file closure and exception handling.\n"
      ],
      "metadata": {
        "id": "s7ivbV_ddBkR"
      }
    },
    {
      "cell_type": "markdown",
      "source": [
        "**9What is the difference between multithreading and multiprocessing**"
      ],
      "metadata": {
        "id": "hosQ5YSddOFJ"
      }
    },
    {
      "cell_type": "markdown",
      "source": [
        "ANS:\n",
        "\n",
        "Multithreading\n",
        "\n",
        "Multithreading is a technique where a single process creates multiple threads that share the same memory space and resources. Each thread executes a separate portion of the code, and the operating system switches between threads rapidly, creating the illusion of simultaneous execution.\n",
        "\n",
        "Here are the key characteristics of multithreading:\n",
        "\n",
        "1. Shared memory: All threads share the same memory space, which can lead to synchronization issues.\n",
        "2. Lightweight: Creating a new thread is relatively fast and inexpensive.\n",
        "3. Context switching: The operating system switches between threads, which can lead to overhead.\n",
        "4. GIL (Global Interpreter Lock): In languages like Python, the GIL prevents multiple threads from executing Python bytecodes at once, limiting true parallelism.\n",
        "\n",
        "Multiprocessing\n",
        "\n",
        "Multiprocessing is a technique where multiple processes are created, each with its own memory space and resources. Each process executes a separate portion of the code, and the operating system schedules them independently.\n",
        "\n",
        "Here are the key characteristics of multiprocessing:\n",
        "\n",
        "1. Separate memory: Each process has its own memory space, which eliminates synchronization issues.\n",
        "2. Heavyweight: Creating a new process is relatively slow and expensive.\n",
        "3. True parallelism: Multiple processes can execute simultaneously, taking advantage of multiple CPU cores.\n",
        "4. No GIL: Each process has its own interpreter, so the GIL does not apply.\n"
      ],
      "metadata": {
        "id": "I7_drNV7dTUS"
      }
    },
    {
      "cell_type": "markdown",
      "source": [
        "**10 What are the advantages of using logging in a program0**"
      ],
      "metadata": {
        "id": "9WJ8ueSWdjkY"
      }
    },
    {
      "cell_type": "markdown",
      "source": [
        "ANS:\n",
        "\n",
        "Logging is a crucial aspect of software development that provides numerous benefits. Here are the advantages of using logging in a program:\n",
        "\n",
        "1. Debugging: Logging helps developers identify and diagnose issues in the code. By logging key events, errors, and exceptions, developers can understand the flow of the program and pinpoint problems.\n",
        "2. Error tracking: Logging allows developers to track errors and exceptions, making it easier to identify and fix bugs. This helps improve the overall quality of the software.\n",
        "3. Performance monitoring: Logging can be used to monitor the performance of the program, tracking metrics such as execution time, memory usage, and resource allocation.\n",
        "4. Security auditing: Logging can be used to track security-related events, such as login attempts, access control changes, and data modifications.\n",
        "5. Compliance: Logging can help organizations meet regulatory requirements, such as HIPAA, PCI-DSS, and GDPR, by providing a record of system activity.\n",
        "6. Troubleshooting: Logging provides a record of system activity, making it easier to troubleshoot issues and resolve problems.\n",
        "7. Auditing: Logging can be used to track changes to the system, including configuration changes, data modifications, and user activity.\n",
        "8. Improved customer support: Logging can help support teams diagnose and resolve customer issues more efficiently.\n",
        "9. Reduced downtime: Logging can help identify potential issues before they become critical, reducing downtime and improving overall system availability.\n",
        "10. Better decision-making: Logging can provide valuable insights into system usage, performance, and behavior, helping organizations make informed decisions.\n",
        "11. Improved testing: Logging can be used to verify that the program is functioning correctly and to identify areas that need improvement.\n",
        "12. Reduced maintenance costs: Logging can help reduce maintenance costs by identifying issues early on, reducing the need for costly repairs and downtime.\n"
      ],
      "metadata": {
        "id": "2w_9Dm_sdm35"
      }
    },
    {
      "cell_type": "markdown",
      "source": [
        "**11 What is memory management in Python**"
      ],
      "metadata": {
        "id": "DGukUwL9dyWz"
      }
    },
    {
      "cell_type": "markdown",
      "source": [
        "ANS:\n",
        "\n",
        "Memory management in Python refers to the process of managing the memory used by Python programs to store data. Python uses a private heap to manage memory, and it provides several mechanisms to ensure efficient memory usage.\n",
        "\n",
        "Memory Allocation\n",
        "\n",
        "When a Python program needs to store data, it requests memory from the operating system. The memory is allocated in blocks, and each block is used to store a specific type of data, such as integers, floats, or strings.\n",
        "\n",
        "Memory Deallocation\n",
        "\n",
        "When a Python program no longer needs to use a block of memory, it is deallocated. Python uses a garbage collector to automatically deallocate memory that is no longer in use.\n",
        "\n",
        "Garbage Collection\n",
        "\n",
        "Python's garbage collector is a mechanism that automatically frees up memory that is no longer in use. The garbage collector works by identifying objects that are no longer referenced by the program and deallocating the memory used by those objects.\n",
        "\n",
        "Reference Counting\n",
        "\n",
        "Python uses a reference counting mechanism to manage memory. When an object is created, its reference count is set to 1. When the object is referenced by another object, its reference count is incremented. When the object is no longer referenced, its reference count is decremented. If the reference count reaches 0, the object is deallocated.\n",
        "\n",
        "Types of Memory Management\n",
        "\n",
        "There are two types of memory management in Python:\n",
        "\n",
        "1. Manual Memory Management: This type of memory management requires the programmer to manually allocate and deallocate memory using functions such as malloc() and free().\n",
        "2. Automatic Memory Management: This type of memory management is handled by the Python interpreter, which automatically allocates and deallocates memory as needed.\n",
        "\n",
        "Memory Management Techniques\n",
        "\n",
        "Python provides several memory management techniques, including:\n",
        "\n",
        "1. Garbage Collection: Python's garbage collector automatically frees up memory that is no longer in use.\n",
        "2. Reference Counting: Python uses a reference counting mechanism to manage memory.\n",
        "3. Weak References: Python provides weak references, which allow objects to be garbage collected even if they are still referenced by other objects.\n",
        "4. Finalizers: Python provides finalizers, which are functions that are called when an object is about to be garbage collected.\n"
      ],
      "metadata": {
        "id": "C4kb8dmQd7Ep"
      }
    },
    {
      "cell_type": "markdown",
      "source": [
        "**12  What are the basic steps involved in exception handling in Python**"
      ],
      "metadata": {
        "id": "6nibrADieAgh"
      }
    },
    {
      "cell_type": "markdown",
      "source": [
        "ANS:\n",
        "\n",
        "Exception handling in Python is a mechanism that allows you to handle runtime errors or unexpected events that occur during the execution of your program. Here are the basic steps involved in exception handling in Python:\n",
        "\n",
        "Step 1: Try\n",
        "\n",
        "The try block contains the code that might raise an exception. This is the code that you want to execute, but you're not sure if it will work as expected.\n",
        "\n",
        "Step 2: Catch\n",
        "\n",
        "The except block is used to catch the exception that is raised in the try block. You can specify the type of exception that you want to catch, or you can catch all exceptions using the Exception class.\n",
        "\n",
        "Step 3: Handle\n",
        "\n",
        "In the except block, you need to handle the exception that was caught. This can involve printing an error message, logging the error, or taking some other action to recover from the error.\n",
        "\n",
        "Step 4: Finally\n",
        "\n",
        "The finally block is optional, but it's used to execute code that needs to be executed regardless of whether an exception was raised or not. This can include closing files, releasing resources, or performing some other cleanup task.\n",
        "\n",
        "Here's an example of the basic steps involved in exception handling in Python:\n",
        "\n",
        "try:\n",
        "    # Code that might raise an exception\n",
        "    x = 5 / 0\n",
        "except ZeroDivisionError:\n",
        "    # Handle the exception\n",
        "    print(\"Cannot divide by zero!\")\n",
        "finally:\n",
        "    # Code that needs to be executed regardless of whether an exception was raised or not\n",
        "    print(\"Cleaning up...\")\n",
        "\n",
        "In this example, the try block contains the code that might raise a ZeroDivisionError. The except block catches the exception and prints an error message. The finally block prints a message indicating that the program is cleaning up.\n"
      ],
      "metadata": {
        "id": "UreXlvKjeLEp"
      }
    },
    {
      "cell_type": "markdown",
      "source": [
        "**13  Why is memory management important in Python**"
      ],
      "metadata": {
        "id": "LyP6y3hWeVdh"
      }
    },
    {
      "cell_type": "markdown",
      "source": [
        "Memory management is crucial in Python because it directly impacts the performance, reliability, and scalability of Python programs. Here are some reasons why memory management is important in Python:\n",
        "\n",
        "1. Prevents Memory Leaks: Memory leaks occur when a program allocates memory but fails to release it when it's no longer needed. This can lead to memory exhaustion, causing the program to crash or become unresponsive. Python's memory management helps prevent memory leaks by automatically garbage collecting unused objects.\n",
        "2. Improves Performance: Efficient memory management ensures that Python programs run quickly and efficiently. When memory is managed properly, Python can allocate and deallocate memory quickly, reducing the time spent on memory management tasks.\n",
        "3. Enhances Reliability: Memory management helps prevent crashes and errors caused by memory-related issues. By ensuring that memory is properly allocated and deallocated, Python programs are less likely to experience crashes or unexpected behavior.\n",
        "4. Supports Scalability: As Python programs grow in size and complexity, memory management becomes increasingly important. Efficient memory management enables Python programs to scale to meet the needs of large and complex applications.\n",
        "5. Reduces Memory Fragmentation: Memory fragmentation occurs when free memory is broken into small, non-contiguous blocks, making it difficult to allocate large blocks of memory. Python's memory management helps reduce memory fragmentation by coalescing free memory blocks.\n",
        "6. Improves Security: Memory management helps prevent security vulnerabilities caused by memory-related issues, such as buffer overflows and use-after-free errors.\n",
        "7. Supports Concurrent Programming: Memory management is critical in concurrent programming, where multiple threads or processes access shared memory. Python's memory management ensures that memory is properly synchronized and protected from concurrent access.\n",
        "\n",
        "To achieve efficient memory management in Python, it's essential to:\n",
        "\n",
        "1. Use weak references: Weak references allow objects to be garbage collected even if they're still referenced by other objects.\n",
        "2. Avoid circular references: Circular references can prevent objects from being garbage collected, leading to memory leaks.\n",
        "3. Use context managers: Context managers ensure that resources, such as files and connections, are properly released when they're no longer needed.\n",
        "4. Monitor memory usage: Use tools like memory_profiler and line_profiler to monitor memory usage and identify potential issues.\n",
        "5. Optimize data structures: Use efficient data structures, such as arrays and dictionaries, to minimize memory usage.\n"
      ],
      "metadata": {
        "id": "4QoxJv6CedfR"
      }
    },
    {
      "cell_type": "markdown",
      "source": [
        "**14 What is the role of try and except in exception handling**"
      ],
      "metadata": {
        "id": "DxLeY_zQekuZ"
      }
    },
    {
      "cell_type": "markdown",
      "source": [
        "ANS:\n",
        "In exception handling, try and except are two essential keywords that work together to catch and handle exceptions.\n",
        "\n",
        "Try:\n",
        "\n",
        "The try block is where you put the code that might potentially raise an exception. This is the code that you want to execute, but you're not sure if it will work as expected. The try block is essentially saying, \"Hey, I'm going to try to execute this code, but if something goes wrong, catch the exception and handle it.\"\n",
        "\n",
        "Except:\n",
        "\n",
        "The except block is where you put the code that will be executed if an exception is raised in the try block. This is the code that will handle the exception, and it's essentially saying, \"If something goes wrong in the try block, execute this code to handle the exception.\"\n",
        "\n",
        "Here's a simple example:\n",
        "\n",
        "try:\n",
        "    x = 5 / 0\n",
        "except ZeroDivisionError:\n",
        "    print(\"Cannot divide by zero!\")\n",
        "\n",
        "In this example, the try block attempts to divide by zero, which raises a ZeroDivisionError. The except block catches this exception and prints a message saying, \"Cannot divide by zero!\"\n"
      ],
      "metadata": {
        "id": "L5Dlov1HetXR"
      }
    },
    {
      "cell_type": "markdown",
      "source": [
        "**15  How does Python's garbage collection system work**"
      ],
      "metadata": {
        "id": "ed9cvG0ae2t5"
      }
    },
    {
      "cell_type": "markdown",
      "source": [
        "ANS:\n",
        "\n",
        "Python's garbage collection system is a mechanism that automatically manages memory and eliminates the need for manual memory management through pointers. It's a key feature that makes Python an attractive language for developers. Here's a breakdown of how Python's garbage collection system works:\n",
        "\n",
        "Overview\n",
        "\n",
        "Python's garbage collection system is based on a private heap, which is a pool of memory that's allocated by the Python interpreter. When you create objects in Python, they're stored in this heap. The garbage collector's job is to identify which objects are no longer needed and free up their memory.\n",
        "\n",
        "Reference Counting\n",
        "\n",
        "Python uses a reference counting algorithm to manage memory. When you create an object, its reference count is set to 1. Every time you assign the object to a new variable or store it in a data structure, its reference count is incremented. When the reference count reaches 0, the object is deallocated.\n",
        "\n",
        "Garbage Collection\n",
        "\n",
        "The garbage collector runs periodically to identify objects that are no longer needed. It uses the following steps to collect garbage:\n",
        "\n",
        "1. Mark phase: The garbage collector identifies all objects that are reachable from the roots (global variables, stack variables, and registers). It marks these objects as \"live\".\n",
        "2. Sweep phase: The garbage collector goes through the heap and identifies all objects that were not marked as \"live\" in the mark phase. These objects are considered garbage and their memory is freed.\n",
        "\n",
        "Generational Garbage Collection\n",
        "\n",
        "Python's garbage collector uses a generational approach to improve performance. It divides the heap into three generations based on the object's lifetime:\n",
        "\n",
        "1. Generation 0: Young objects that have just been created. These objects are collected frequently.\n",
        "2. Generation 1: Objects that have survived a few garbage collections. These objects are collected less frequently than generation 0 objects.\n",
        "3. Generation 2: Old objects that have survived many garbage collections. These objects are collected infrequently.\n",
        "\n",
        "Other Garbage Collection Techniques\n",
        "\n",
        "Python's garbage collector also uses other techniques to improve performance, including:\n",
        "\n",
        "1. Incremental garbage collection: The garbage collector runs in small increments, reducing the pause time for the program.\n",
        "2. Concurrent garbage collection: The garbage collector runs in parallel with the program, reducing the pause time.\n",
        "3. Cycle detection: The garbage collector detects and breaks cycles of objects that reference each other, preventing memory leaks.\n",
        "\n",
        "Manual Garbage Collection\n",
        "\n",
        "While Python's garbage collector is automatic, you can manually trigger garbage collection using the gc module. This can be useful in certain situations, such as when you're working with large datasets and want to ensure that memory is freed up quickly.\n",
        "\n",
        "In summary, Python's garbage collection system is a powerful mechanism that automatically manages memory and eliminates the need for manual memory management. Its reference counting algorithm, generational approach, and other techniques work together to provide efficient and effective garbage collection."
      ],
      "metadata": {
        "id": "nZdJ0IA_fDHR"
      }
    },
    {
      "cell_type": "markdown",
      "source": [
        "**16  What is the purpose of the else block in exception handling**"
      ],
      "metadata": {
        "id": "k2eqNluMfJBZ"
      }
    },
    {
      "cell_type": "markdown",
      "source": [
        "ANS:\n",
        "\n",
        "The else block in exception handling is used to specify a block of code that should be executed if no exceptions are raised in the try block.\n",
        "\n",
        "The else block is optional and is typically used to perform actions that should only be executed if the code in the try block is successful. This can include tasks such as:\n",
        "\n",
        "1. Cleanup: Performing cleanup actions, such as closing files or releasing resources, that should only be done if the code in the try block is successful.\n",
        "2. Logging: Logging information about the successful execution of the code in the try block.\n",
        "3. Returning values: Returning values or results from the try block if no exceptions are raised.\n",
        "\n",
        "Here is an example of using the else block in exception handling:\n",
        "\n",
        "try:\n",
        "    # Code that might raise an exception\n",
        "    x = 5 / 1\n",
        "except ZeroDivisionError:\n",
        "    # Handle the exception\n",
        "    print(\"Cannot divide by zero!\")\n",
        "else:\n",
        "    # Code to execute if no exceptions are raised\n",
        "    print(\"Division successful!\")\n",
        "    print(\"Result:\", x)\n",
        "\n",
        "In this example, the else block is used to print a message and the result of the division if no exceptions are raised.\n",
        "\n",
        "Benefits of using the else block\n",
        "\n",
        "Using the else block in exception handling provides several benefits, including:\n",
        "\n",
        "1. Improved code organization: The else block helps to separate the code that should be executed if no exceptions are raised from the code that handles exceptions.\n",
        "2. Reduced code duplication: By using the else block, you can avoid duplicating code that should be executed if no exceptions are raised.\n",
        "3. Improved readability: The else block makes it clear what code should be executed if no exceptions are raised, making the code easier to read and understand.\n"
      ],
      "metadata": {
        "id": "dsQtoVDcfVF4"
      }
    },
    {
      "cell_type": "markdown",
      "source": [
        "**17 What are the common logging levels in Python**"
      ],
      "metadata": {
        "id": "Ced6bO0Efiuh"
      }
    },
    {
      "cell_type": "markdown",
      "source": [
        "ANS:\n",
        "\n",
        "In Python, the logging module provides several logging levels that allow you to control the amount of logging information that is generated. Here are the common logging levels in Python, listed in order of increasing severity:\n",
        "\n",
        "1. DEBUG: This level is used for debugging purposes and is typically used to log detailed information about the program's execution.\n",
        "2. INFO: This level is used to log informational messages that are not critical to the program's execution.\n",
        "3. WARNING: This level is used to log warning messages that indicate potential problems or unexpected events.\n",
        "4. ERROR: This level is used to log error messages that indicate a problem that prevents the program from functioning correctly.\n",
        "5. CRITICAL: This level is used to log critical messages that indicate a serious problem that requires immediate attention.\n",
        "\n",
        "In addition to these levels, the logging module also provides a NOTSET level, which is used to disable logging.\n"
      ],
      "metadata": {
        "id": "tgzmaRgTfr7h"
      }
    },
    {
      "cell_type": "code",
      "source": [
        "#Here's an example of how you might use these logging levels in a Python program:\n",
        "\n",
        "import logging\n",
        "\n",
        "logging.basicConfig(level=logging.INFO)\n",
        "\n",
        "logging.debug(\"This is a debug message\")\n",
        "logging.info(\"This is an info message\")\n",
        "logging.warning(\"This is a warning message\")\n",
        "logging.error(\"This is an error message\")\n",
        "logging.critical(\"This is a critical message\")\n"
      ],
      "metadata": {
        "colab": {
          "base_uri": "https://localhost:8080/"
        },
        "id": "dV1RmYSHcrUw",
        "outputId": "c987148c-a04c-4e54-975a-2a9c86964a02"
      },
      "execution_count": 8,
      "outputs": [
        {
          "output_type": "stream",
          "name": "stderr",
          "text": [
            "WARNING:root:This is a warning message\n",
            "ERROR:root:This is an error message\n",
            "CRITICAL:root:This is a critical message\n"
          ]
        }
      ]
    },
    {
      "cell_type": "markdown",
      "source": [
        "**18 What is the difference between os.fork() and multiprocessing in Python**"
      ],
      "metadata": {
        "id": "_merQn5lf5zh"
      }
    },
    {
      "cell_type": "markdown",
      "source": [
        "ANS:\n",
        "os.fork() and multiprocessing are two different ways to create multiple processes in Python. While they share some similarities, they have distinct differences in their approach, functionality, and use cases.\n",
        "\n",
        "os.fork()\n",
        "\n",
        "os.fork() is a low-level system call that creates a new process by duplicating the current process. The new process, called the child process, is a copy of the parent process, with the same memory space and file descriptors. The child process has its own process ID (PID) and can execute independently of the parent process.\n",
        "\n",
        "Here's an example of using os.fork():\n",
        "\n",
        "import os\n",
        "\n",
        "pid = os.fork()\n",
        "if pid == 0:\n",
        "    # Child process\n",
        "    print(\"Hello from child process!\")\n",
        "else:\n",
        "    # Parent process\n",
        "    print(\"Hello from parent process!\")\n",
        "\n",
        "multiprocessing\n",
        "\n",
        "multiprocessing is a higher-level module in Python that provides a way to create multiple processes and manage them in a more abstract and convenient way. It uses a different approach than os.fork(), where each process is created from scratch, with its own memory space and file descriptors.\n",
        "\n",
        "Here's an example of using multiprocessing:\n",
        "\n",
        "import multiprocessing\n",
        "\n",
        "def worker():\n",
        "    print(\"Hello from worker process!\")\n",
        "\n",
        "if __name__ == \"__main__\":\n",
        "    p = multiprocessing.Process(target=worker)\n",
        "    p.start()\n",
        "    p.join()\n",
        "\n",
        "Key differences\n",
        "\n",
        "1. Memory sharing: os.fork() shares the same memory space between the parent and child processes, while multiprocessing creates separate memory spaces for each process.\n",
        "2. Process creation: os.fork() creates a new process by duplicating the current process, while multiprocessing creates a new process from scratch.\n",
        "3. Synchronization: multiprocessing provides built-in synchronization primitives, such as queues and locks, to manage communication between processes. os.fork() requires manual synchronization using system calls.\n",
        "4. Ease of use: multiprocessing is generally easier to use than os.fork(), with a more Pythonic API and better support for process management.\n",
        "5. Platform compatibility: multiprocessing is more platform-independent than os.fork(), which is Unix-specific.\n"
      ],
      "metadata": {
        "id": "ZL8WkTKCgGA5"
      }
    },
    {
      "cell_type": "markdown",
      "source": [
        "**19 What is the importance of closing a file in Python**"
      ],
      "metadata": {
        "id": "eD1eSMH4gM3Y"
      }
    },
    {
      "cell_type": "markdown",
      "source": [
        "ANS:\n",
        "\n",
        "Closing a file in Python is important for several reasons:\n",
        "\n",
        "1. Releases system resources: When a file is opened, the operating system allocates resources such as file descriptors, memory, and disk space. Closing the file releases these resources, making them available for other processes.\n",
        "2. Prevents file corruption: If a file is not properly closed, data may be lost or corrupted. Closing a file ensures that any buffered data is written to the file and that the file is in a consistent state.\n",
        "3. Ensures data integrity: Closing a file helps ensure that data is written to the file in a consistent and predictable manner. If a file is not closed, data may be written to the file in an unpredictable order, leading to data corruption.\n",
        "4. Prevents file descriptor leaks: If a file is not closed, the file descriptor remains open, which can lead to file descriptor leaks. File descriptor leaks can cause problems such as file descriptor exhaustion, which can prevent other processes from opening files.\n",
        "5. Improves system performance: Closing files promptly can improve system performance by reducing the number of open file descriptors and releasing system resources.\n",
        "6. Ensures security: Closing files promptly can help prevent security vulnerabilities such as file descriptor attacks.\n",
        "7. Supports concurrent access: Closing files promptly can help support concurrent access to files by multiple processes.\n",
        "\n",
        "Best practices for closing files in Python\n",
        "\n",
        "1. Use the close() method: The close() method is used to close a file. It is recommended to use this method to close files explicitly.\n",
        "2. Use the with statement: The with statement is a context manager that automatically closes the file when the block of code is exited. This is a recommended way to open and close files in Python.\n",
        "3. Use a try-finally block: A try-finally block can be used to ensure that a file is closed even if an exception occurs.\n"
      ],
      "metadata": {
        "id": "uNEt--_qgXr5"
      }
    },
    {
      "cell_type": "code",
      "source": [
        "#Example of using the with statement to open and close a file:\n",
        "\n",
        "with open('file.txt', 'r') as file:\n",
        "    # Read or write to the file\n",
        "    pass\n",
        "\n",
        "#In this example, the file is automatically closed when the block of code is exited, regardless of whether an exception occurs or not.\n",
        "\n",
        "#Example of using a try-finally block to open and close a file:\n",
        "\n",
        "file = open('file.txt', 'r')\n",
        "try:\n",
        "    # Read or write to the file\n",
        "    pass\n",
        "finally:\n",
        "    file.close()"
      ],
      "metadata": {
        "id": "Ozf5dgzAf15K"
      },
      "execution_count": null,
      "outputs": []
    },
    {
      "cell_type": "markdown",
      "source": [
        "**20 What is the difference between file.read() and file.readline() in Python**"
      ],
      "metadata": {
        "id": "ZdPAi2PUgoM5"
      }
    },
    {
      "cell_type": "markdown",
      "source": [
        "ANS:\n",
        "\n",
        "In Python, file.read() and file.readline() are two methods used to read data from a file. The main difference between them is the amount of data they read and return.\n",
        "\n",
        "file.read()\n",
        "\n",
        "file.read() reads the entire contents of the file and returns it as a string. It reads from the current file position to the end of the file. If the file is empty, it returns an empty string.\n",
        "\n",
        "Here's an example:\n",
        "\n",
        "with open('example.txt', 'r') as file:\n",
        "    contents = file.read()\n",
        "    print(contents)\n",
        "\n",
        "This will print the entire contents of the file example.txt.\n",
        "\n",
        "file.readline()\n",
        "\n",
        "file.readline() reads a single line from the file and returns it as a string. It reads from the current file position to the next newline character (\\n). If the file is empty or the end of the file is reached, it returns an empty string.\n",
        "\n",
        "Here's an example:\n",
        "\n",
        "with open('example.txt', 'r') as file:\n",
        "    line = file.readline()\n",
        "    print(line)\n",
        "\n",
        "This will print the first line of the file example.txt.\n"
      ],
      "metadata": {
        "id": "JgBkvxjKgv4Q"
      }
    },
    {
      "cell_type": "markdown",
      "source": [
        "**21  What is the logging module in Python used for**"
      ],
      "metadata": {
        "id": "7DGhjXUAg326"
      }
    },
    {
      "cell_type": "markdown",
      "source": [
        "ANS:\n",
        "\n",
        "The logging module in Python is a built-in module that allows you to log events in your program. Logging is the process of recording events that occur during the execution of a program, such as errors, warnings, or informational messages.\n",
        "\n",
        "The logging module is used for several purposes:\n",
        "\n",
        "1. Error tracking: Logging helps you track errors that occur in your program, making it easier to diagnose and fix problems.\n",
        "2. Debugging: Logging can be used to output debug information, such as variable values or function calls, to help you understand how your program is executing.\n",
        "3. Auditing: Logging can be used to record important events, such as user actions or system changes, for auditing or security purposes.\n",
        "4. Performance monitoring: Logging can be used to record performance metrics, such as execution time or memory usage, to help you optimize your program.\n",
        "5. Informing users: Logging can be used to inform users of important events, such as errors or warnings, through a user interface.\n",
        "\n",
        "The logging module provides several features, including:\n",
        "\n",
        "1. Log levels: The logging module defines several log levels, such as DEBUG, INFO, WARNING, ERROR, and CRITICAL, which allow you to control the amount of logging output.\n",
        "2. Loggers: Loggers are objects that manage the logging process, allowing you to configure logging settings and output log messages.\n",
        "3. Handlers: Handlers are objects that determine where log messages are output, such as to a file, console, or network socket.\n",
        "4. Formatters: Formatters are objects that control the format of log messages, allowing you to customize the output.\n",
        "\n",
        "Some common use cases for the logging module include:\n",
        "\n",
        "1. Web applications: Logging is essential in web applications to track errors, security incidents, and performance issues.\n",
        "2. System administration: Logging is used in system administration to track system events, errors, and performance issues.\n",
        "3. Scientific computing: Logging is used in scientific computing to track experiment results, errors, and performance issues.\n",
        "4. Machine learning: Logging is used in machine learning to track model performance, errors, and hyperparameter tuning.\n"
      ],
      "metadata": {
        "id": "LrdjWokDhASy"
      }
    },
    {
      "cell_type": "markdown",
      "source": [
        "**22 What is the os module in Python used for in file handling**"
      ],
      "metadata": {
        "id": "nvHe5ny-hH-x"
      }
    },
    {
      "cell_type": "markdown",
      "source": [
        "ANS:\n",
        "The os module in Python is a built-in module that provides a way to interact with the operating system and perform various tasks related to file handling, process management, and environment variables. In the context of file handling, the os module is used for the following purposes:\n",
        "\n",
        "1. Creating and deleting directories: The os module provides functions such as os.mkdir() and os.rmdir() to create and delete directories.\n",
        "2. Changing the current working directory: The os module provides the os.chdir() function to change the current working directory.\n",
        "3. Getting the current working directory: The os module provides the os.getcwd() function to get the current working directory.\n",
        "4. Listing files and directories: The os module provides the os.listdir() function to list the files and directories in a given directory.\n",
        "5. Checking if a file or directory exists: The os module provides the os.path.exists() function to check if a file or directory exists.\n",
        "6. Checking if a file is a directory or a regular file: The os module provides the os.path.isdir() and os.path.isfile() functions to check if a file is a directory or a regular file.\n",
        "7. Getting the file size: The os module provides the os.path.getsize() function to get the size of a file.\n",
        "8. Renaming files and directories: The os module provides the os.rename() function to rename files and directories.\n",
        "9. Removing files: The os module provides the os.remove() function to remove files.\n",
        "\n",
        "Some examples of using the os module for file handling are:\n",
        "\n",
        "- Creating a new directory: os.mkdir('new_directory')\n",
        "- Changing the current working directory: os.chdir('/path/to/new/directory')\n",
        "- Listing the files and directories in the current directory: os.listdir('.')\n",
        "- Checking if a file exists: os.path.exists('file.txt')\n",
        "- Getting the size of a file: os.path.getsize('file.txt')\n",
        "\n",
        "The os module is a powerful tool for file handling in Python, and it provides a wide range of functions for performing various tasks related to files and directories.\n",
        "\n",
        "Here is an example of using the os module to create a new directory, change the current working directory, and list the files and directories in the new directory:\n",
        "\n",
        "import os\n",
        "\n",
        "# Create a new directory\n",
        "os.mkdir('new_directory')\n",
        "\n",
        "# Change the current working directory\n",
        "os.chdir('new_directory')\n",
        "\n",
        "# List the files and directories in the new directory\n",
        "print(os.listdir('.'))\n"
      ],
      "metadata": {
        "id": "pdOvsqAGhOsT"
      }
    },
    {
      "cell_type": "markdown",
      "source": [
        "**23  What are the challenges associated with memory management in Python**"
      ],
      "metadata": {
        "id": "bMnbS2wAhaiB"
      }
    },
    {
      "cell_type": "markdown",
      "source": [
        "ANS:\n",
        "\n",
        "Python's memory management is generally automatic and efficient, but there are still some challenges associated with it:\n",
        "\n",
        "1. Memory Leaks: Python's garbage collector can sometimes fail to collect objects that are no longer in use, leading to memory leaks. This can happen when objects are referenced by other objects, or when objects are not properly cleaned up.\n",
        "2. Reference Cycles: When objects reference each other in a cycle, the garbage collector may not be able to collect them, leading to memory leaks.\n",
        "3. Large Objects: Large objects, such as lists or dictionaries, can consume a lot of memory and cause performance issues if not properly managed.\n",
        "4. Memory Fragmentation: When objects are allocated and deallocated, the memory can become fragmented, leading to performance issues and memory waste.\n",
        "5. Multithreading and Multiprocessing: When using multithreading or multiprocessing, memory management can become more complex, and synchronization issues can arise.\n",
        "6. External Libraries: When using external libraries, memory management can become more complex, and memory leaks can occur if the libraries are not properly managed.\n",
        "7. Cython and C Extensions: When using Cython or C extensions, memory management can become more complex, and memory leaks can occur if the extensions are not properly managed.\n",
        "8. Garbage Collection Pauses: Python's garbage collector can pause the program to collect garbage, which can lead to performance issues and delays.\n",
        "9. Memory-Intensive Applications: Applications that require large amounts of memory, such as scientific computing or data analysis, can be challenging to manage in terms of memory.\n",
        "10. Debugging Memory Issues: Debugging memory issues in Python can be challenging, especially when dealing with complex applications or external libraries.\n",
        "\n",
        "To overcome these challenges, Python developers can use various techniques, such as:\n",
        "\n",
        "1. Using Weak References: Using weak references can help avoid memory leaks and reference cycles.\n",
        "2. Implementing *del Methods*: Implementing __del__ methods can help ensure that objects are properly cleaned up.\n",
        "3. Using Context Managers: Using context managers can help ensure that resources are properly cleaned up.\n",
        "4. Optimizing Data Structures: Optimizing data structures can help reduce memory usage and improve performance.\n",
        "5. Using Profiling Tools: Using profiling tools can help identify memory issues and optimize memory usage.\n",
        "6. Using Memory-Profiling Libraries: Using memory-profiling libraries, such as memory_profiler, can help identify memory issues and optimize memory usage.\n",
        "7. Avoiding Global Variables: Avoiding global variables can help reduce memory usage and improve performance.\n",
        "8. Using Generators: Using generators can help reduce memory usage and improve performance.\n"
      ],
      "metadata": {
        "id": "J-V0w3fGhkoC"
      }
    },
    {
      "cell_type": "markdown",
      "source": [
        "**24 How do you raise an exception manually in Python**"
      ],
      "metadata": {
        "id": "EHRLZTaFhpSx"
      }
    },
    {
      "cell_type": "markdown",
      "source": [
        "ANS:\n",
        "\n",
        "In Python, you can raise an exception manually using the raise keyword followed by the exception type and an optional error message. Here's the basic syntax:\n",
        "\n",
        "raise ExceptionType(\"Error message\")\n",
        "\n",
        "For example:\n",
        "\n",
        "raise ValueError(\"Invalid input\")\n",
        "\n",
        "This will raise a ValueError exception with the message \"Invalid input\".\n",
        "\n",
        "You can also raise an exception with a custom error message using the Exception class:\n",
        "\n",
        "raise Exception(\"Custom error message\")\n",
        "\n",
        "If you want to raise an exception with a specific error code or additional information, you can use the Exception class with additional arguments:\n",
        "\n",
        "raise Exception(\"Custom error message\", error_code=123)\n",
        "\n",
        "Note that the error_code argument is not a standard Python exception attribute, but rather a custom attribute that you can use to provide additional information about the exception.\n",
        "\n",
        "You can also raise an exception from within a function or method using the raise keyword:\n",
        "\n",
        "def divide(a, b):\n",
        "    if b == 0:\n",
        "        raise ZeroDivisionError(\"Cannot divide by zero\")\n",
        "    return a / b\n",
        "\n",
        "In this example, if the b argument is zero, the function will raise a ZeroDivisionError exception with the message \"Cannot divide by zero\".\n",
        "\n",
        "It's also possible to raise an exception from within a try-except block using the raise keyword:\n",
        "\n",
        "try:\n",
        "    # code that might raise an exception\n",
        "except Exception as e:\n",
        "    # handle the exception\n",
        "    raise ValueError(\"Invalid input\") from e\n",
        "\n",
        "In this example, if an exception is raised in the try block, it will be caught by the except block and re-raised as a ValueError exception with the message \"Invalid input\". The from e clause is used to indicate that the new exception is related to the original exception.\n"
      ],
      "metadata": {
        "id": "v0JZV1ZNhsYT"
      }
    },
    {
      "cell_type": "markdown",
      "source": [
        "**25  Why is it important to use multithreading in certain applications?**\n"
      ],
      "metadata": {
        "id": "xolBLzRsh0XK"
      }
    },
    {
      "cell_type": "markdown",
      "source": [
        "ANS:\n",
        "\n",
        "Multithreading is important in certain applications because it allows for:\n",
        "\n",
        "1. Improved responsiveness: By performing tasks concurrently, multithreading can improve the responsiveness of an application, making it feel more interactive and responsive to the user.\n",
        "2. Increased throughput: Multithreading can increase the overall throughput of an application by allowing multiple tasks to be executed simultaneously, making it ideal for applications that require concurrent execution of multiple tasks.\n",
        "3. Better resource utilization: Multithreading can help to better utilize system resources, such as CPU and memory, by allowing multiple threads to share the same resources and reducing the need for context switching.\n",
        "4. Scalability: Multithreading can make an application more scalable, as it allows for the addition of more threads to handle increased workloads, making it easier to scale the application to meet the needs of a growing user base.\n",
        "5. Improved system utilization: Multithreading can help to improve system utilization by allowing multiple threads to run concurrently, reducing the need for context switching and improving overall system performance.\n",
        "6. Real-time processing: Multithreading is essential for real-time processing applications, such as video processing, audio processing, and scientific simulations, where multiple tasks need to be executed concurrently to meet strict deadlines.\n",
        "7. Concurrent execution of I/O operations: Multithreading can be used to perform I/O operations, such as reading and writing to files, networks, or databases, concurrently, improving the overall performance of the application.\n",
        "8. Improved user experience: Multithreading can improve the user experience by allowing for the concurrent execution of tasks, such as loading data in the background while the user interacts with the application.\n",
        "\n",
        "Some examples of applications that benefit from multithreading include:\n",
        "\n",
        "1. Web servers: Multithreading is essential for web servers, as it allows for the concurrent handling of multiple requests, improving the overall performance and responsiveness of the server.\n",
        "2. Database systems: Multithreading is used in database systems to improve the performance and responsiveness of queries, as well as to handle multiple concurrent requests.\n",
        "3. Scientific simulations: Multithreading is used in scientific simulations, such as weather forecasting and fluid dynamics, to perform complex calculations concurrently, improving the overall performance and accuracy of the simulation.\n",
        "4. Video and audio processing: Multithreading is used in video and audio processing applications, such as video editing and audio mixing, to perform tasks concurrently, improving the overall performance and responsiveness of the application.\n",
        "5. Gaming: Multithreading is used in games to improve the overall performance and responsiveness of the game, as well as to handle multiple concurrent tasks, such as physics simulations and graphics rendering.\n"
      ],
      "metadata": {
        "id": "EsLI3IFAh_Z7"
      }
    },
    {
      "cell_type": "markdown",
      "source": [
        "**Practical Question**"
      ],
      "metadata": {
        "id": "xjbCYct7iMS9"
      }
    },
    {
      "cell_type": "markdown",
      "source": [
        "**1 F How can you open a file for writing in Python and write a string to it**"
      ],
      "metadata": {
        "id": "-x7-tvZ2iW-y"
      }
    },
    {
      "cell_type": "code",
      "source": [
        "#You can open a file for writing in Python using the open() function, which returns a file object. Here's an example of how to open a file for writing and write a string to it:\n",
        "\n",
        "# Open the file in write mode ('w')\n",
        "file = open('example.txt', 'w')\n",
        "\n",
        "# Write a string to the file\n",
        "file.write('Hello, world!')\n",
        "\n",
        "# Close the file\n",
        "file.close()\n",
        "\n",
        "#Alternatively, you can use the with statement to open the file, which automatically closes the file when you're done with it:\n",
        "\n",
        "# Open the file in write mode ('w') using the 'with' statement\n",
        "with open('example.txt', 'w') as file:\n",
        "    # Write a string to the file\n",
        "    file.write('Hello, world!')\n",
        "\n",
        "#In both cases, the file is opened in write mode ('w'), which means that if the file already exists, its contents will be overwritten. If you want to append to the file instead of overwriting it, you can use the append mode ('a') instead:\n",
        "\n",
        "# Open the file in append mode ('a')\n",
        "with open('example.txt', 'a') as file:\n",
        "    # Write a string to the file\n",
        "    file.write('Hello, world!')\n",
        "\n",
        "#Note that if the file does not exist, it will be created automatically when you open it for writing.\n",
        "\n",
        "#Also, you can use the print() function with the file argument to write to the file:\n",
        "\n",
        "# Open the file in write mode ('w')\n",
        "with open('example.txt', 'w') as file:\n",
        "    # Write a string to the file using print()\n",
        "    print('Hello, world!', file=file)\n"
      ],
      "metadata": {
        "id": "4xDKSOKLggvS"
      },
      "execution_count": null,
      "outputs": []
    },
    {
      "cell_type": "markdown",
      "source": [
        "**2 F Write a Python program to read the contents of a file and print each line**\n"
      ],
      "metadata": {
        "id": "nBxlvobwix8x"
      }
    },
    {
      "cell_type": "code",
      "source": [
        "#Here is a simple Python program that reads the contents of a file and prints each line:\n",
        "\n",
        "def read_file(filename):\n",
        "    try:\n",
        "        with open(filename, 'r') as file:\n",
        "            for line in file:\n",
        "                print(line.strip())\n",
        "    except FileNotFoundError:\n",
        "        print(f\"File '{filename}' not found.\")\n",
        "    except Exception as e:\n",
        "        print(f\"An error occurred: {e}\")\n",
        "\n",
        "# Call the function with the filename as an argument\n",
        "read_file('example.txt')\n"
      ],
      "metadata": {
        "id": "SrmJJegni_-p"
      },
      "execution_count": null,
      "outputs": []
    },
    {
      "cell_type": "markdown",
      "source": [
        "**3 How would you handle a case where the file doesn't exist while trying to open it for readinG**"
      ],
      "metadata": {
        "id": "H6dso1g5jIUp"
      }
    },
    {
      "cell_type": "markdown",
      "source": [
        "ANS:\n",
        "\n",
        "There are several ways to handle a case where the file doesn't exist while trying to open it for reading:\n",
        "\n",
        "1. Try-Except Block: You can use a try-except block to catch the FileNotFoundError exception that is raised when the file does not exist. Here's an example:\n",
        "\n",
        "```\n",
        "try:\n",
        "with open('example.txt', 'r') as file:\n",
        "# Read the file\n",
        "except FileNotFoundError:\n",
        "print(\"The file does not exist.\")\n",
        "\n",
        "   In this example, if the file example.txt does not exist, the FileNotFoundError exception is caught and the message \"The file does not exist.\" is printed.\n",
        "\n",
        "2. *Check if the file exists before opening it*: You can use the os.path.exists() function to check if the file exists before trying to open it. Here's an example:\n",
        "   python\n",
        "import os\n",
        "\n",
        "if os.path.exists('example.txt'):\n",
        "    with open('example.txt', 'r') as file:\n",
        "        # Read the file\n",
        "else:\n",
        "    print(\"The file does not exist.\")\n",
        "\n",
        "In this example, the os.path.exists() function checks if the file example.txt exists. If it does, the file is opened and read. If it does not, the message \"The file does not exist.\" is printed.\n",
        "\n",
        "1. Use the open() function with a default value: You can use the open() function with a default value to specify what to do if the file does not exist. However, this approach is not recommended as it can lead to unexpected behavior. Instead, it's better to use a try-except block or check if the file exists before opening it.\n",
        "\n",
        "2. Create the file if it does not exist: If the file is supposed to exist and you want to create it if it does not, you can use the open() function in write mode ('w') instead of read mode ('r'). Here's an example:\n",
        "\n",
        "```\n",
        "with open('example.txt', 'w+') as file:\n",
        "# Read and write the file\n",
        "\n",
        "   In this example, the file example.txt is opened in write mode ('w+'). If the file does not exist, it is created. If it does exist, its contents are overwritten.\n",
        "\n",
        "Remember to always handle exceptions and errors properly to ensure that your program behaves as expected in different scenarios.\n",
        "```"
      ],
      "metadata": {
        "id": "u0fIRF4vjgYi"
      }
    },
    {
      "cell_type": "markdown",
      "source": [
        "**4 Write a Python script that reads from one file and writes its content to another file**"
      ],
      "metadata": {
        "id": "o0m2MccEjoJh"
      }
    },
    {
      "cell_type": "code",
      "source": [
        "ANS:\n",
        "\n",
        "Here is a simple Python script that reads from one file and writes its content to another file:\n",
        "\n",
        "# Define the input and output file names\n",
        "input_file_name = 'input.txt'\n",
        "output_file_name = 'output.txt'\n",
        "\n",
        "try:\n",
        "    # Open the input file in read mode\n",
        "    with open(input_file_name, 'r') as input_file:\n",
        "        # Read the content of the input file\n",
        "        content = input_file.read()\n",
        "\n",
        "    # Open the output file in write mode\n",
        "    with open(output_file_name, 'w') as output_file:\n",
        "        # Write the content to the output file\n",
        "        output_file.write(content)\n",
        "\n",
        "    print(f\"Content copied from {input_file_name} to {output_file_name}\")\n",
        "\n",
        "except FileNotFoundError:\n",
        "    print(f\"Input file {input_file_name} not found\")\n",
        "\n",
        "except Exception as e:\n",
        "    print(f\"An error occurred: {e}\")"
      ],
      "metadata": {
        "id": "KERbWD7djP0g"
      },
      "execution_count": null,
      "outputs": []
    },
    {
      "cell_type": "markdown",
      "source": [
        "**5 How would you catch and handle division by zero error in Python**"
      ],
      "metadata": {
        "id": "mz5VqRW_p5cZ"
      }
    },
    {
      "cell_type": "code",
      "source": [
        "#In Python, you can catch and handle division by zero error using a try-except block. Here's an example:\n",
        "\n",
        "try:\n",
        "    x = 10 / 0\n",
        "except ZeroDivisionError:\n",
        "    print(\"Error: Division by zero is not allowed.\")\n",
        "\n",
        "#In this example, the code attempts to divide 10 by 0, which raises a ZeroDivisionError. The except block catches this error and prints an error message.\n",
        "\n",
        "#You can also handle the error by providing a default value or by raising a custom error. Here are some examples:\n",
        "\n",
        "# Providing a default value\n",
        "try:\n",
        "    x = 10 / 0\n",
        "except ZeroDivisionError:\n",
        "    x = float('inf')  # or any other default value\n",
        "    print(\"Default value used.\")\n",
        "\n",
        "# Raising a custom error\n",
        "try:\n",
        "    x = 10 / 0\n",
        "except ZeroDivisionError:\n",
        "    raise ValueError(\"Division by zero is not allowed.\")\n",
        "\n",
        "# Logging the error\n",
        "import logging\n",
        "try:\n",
        "    x = 10 / 0\n",
        "except ZeroDivisionError:\n",
        "    logging.error(\"Division by zero error occurred.\")\n",
        "\n",
        "#It's also a good practice to provide more context about the error, such as the values being divided, to help with debugging:\n",
        "\n",
        "try:\n",
        "    numerator = 10\n",
        "    denominator = 0\n",
        "    x = numerator / denominator\n",
        "except ZeroDivisionError:\n",
        "    print(f\"Error: Division by zero occurred. Numerator: {numerator}, Denominator: {denominator}\")\n",
        "\n",
        "#Note that in Python 3.x, the ZeroDivisionError is a subclass of ArithmeticError, so you can also catch it using ArithmeticError:\n",
        "\n",
        "try:\n",
        "    x = 10 / 0\n",
        "except ArithmeticError:\n",
        "    print(\"Arithmetic error occurred.\")\n",
        "\n",
        "#However, it's generally a good practice to catch the specific error that you expect to occur, rather than a more general error."
      ],
      "metadata": {
        "id": "3EdKn3rcp9Ug"
      },
      "execution_count": null,
      "outputs": []
    },
    {
      "cell_type": "markdown",
      "source": [
        "**6 Write a Python program that logs an error message to a log file when a division by zero exception occurs**"
      ],
      "metadata": {
        "id": "w58qWwinqWQF"
      }
    },
    {
      "cell_type": "code",
      "source": [
        "#Here's a Python program that logs an error message to a log file when a division by zero exception occurs:\n",
        "\n",
        "import logging\n",
        "\n",
        "# Create a logger\n",
        "logger = logging.getLogger(__name__)\n",
        "\n",
        "# Set the logging level\n",
        "logger.setLevel(logging.ERROR)\n",
        "\n",
        "# Create a file handler\n",
        "file_handler = logging.FileHandler('error.log')\n",
        "\n",
        "# Create a formatter and set it for the file handler\n",
        "formatter = logging.Formatter('%(asctime)s - %(name)s - %(levelname)s - %(message)s')\n",
        "file_handler.setFormatter(formatter)\n",
        "\n",
        "# Add the file handler to the logger\n",
        "logger.addHandler(file_handler)\n",
        "\n",
        "def divide(x, y):\n",
        "    try:\n",
        "        result = x / y\n",
        "        return result\n",
        "    except ZeroDivisionError:\n",
        "        logger.error(\"Division by zero error occurred. Numerator: %d, Denominator: %d\", x, y)\n",
        "\n",
        "# Test the function\n",
        "divide(10, 0)\n"
      ],
      "metadata": {
        "id": "IFRQ0Vrvqd4A"
      },
      "execution_count": null,
      "outputs": []
    },
    {
      "cell_type": "markdown",
      "source": [
        "**7  How do you log information at different levels (INFO, ERROR, WARNING) in Python using the logging module**"
      ],
      "metadata": {
        "id": "fDQL-7fgqxmp"
      }
    },
    {
      "cell_type": "code",
      "source": [
        "#In Python, you can log information at different levels (INFO, ERROR, WARNING) using the logging module. Here's an example:\n",
        "\n",
        "import logging\n",
        "\n",
        "# Create a logger\n",
        "logger = logging.getLogger(__name__)\n",
        "\n",
        "# Set the logging level\n",
        "logger.setLevel(logging.DEBUG)\n",
        "\n",
        "# Create a console handler\n",
        "console_handler = logging.StreamHandler()\n",
        "\n",
        "# Create a formatter and set it for the console handler\n",
        "formatter = logging.Formatter('%(asctime)s - %(name)s - %(levelname)s - %(message)s')\n",
        "console_handler.setFormatter(formatter)\n",
        "\n",
        "# Add the console handler to the logger\n",
        "logger.addHandler(console_handler)\n",
        "\n",
        "# Log messages at different levels\n",
        "logger.debug('This is a debug message')\n",
        "logger.info('This is an info message')\n",
        "logger.warning('This is a warning message')\n",
        "logger.error('This is an error message')\n",
        "logger.critical('This is a critical message')\n",
        "\n",
        "\"\"\"In this example, we create a logger and set its level to DEBUG. We then create a console handler and add it to the logger. We log messages at different levels using the debug, info, warning, error, and critical methods.\n",
        "\n",
        "The logging levels in Python are:\n",
        "\n",
        "- DEBUG: Detailed information, typically of interest only when diagnosing problems.\n",
        "- INFO: Confirmation that things are working as expected.\n",
        "- WARNING: An indication that something unexpected happened, or indicative of some problem in the near future (e.g. ‘disk space low’). The software is still working as expected.\n",
        "- ERROR: Due to a more serious problem, the software has not been able to perform some function.\n",
        "- CRITICAL: A serious error, indicating that the program itself may be unable to continue running.\"\"\"\n",
        "\n",
        "#You can also log messages with additional information, such as exceptions:\n",
        "\n",
        "try:\n",
        "    x = 1 / 0\n",
        "except ZeroDivisionError as e:\n",
        "    logger.error('Division by zero', exc_info=True)\n",
        "\n",
        "#This will log the error message with the exception information.\n",
        "\n",
        "#You can also use the logging.config module to configure the logging module from a configuration file or dictionary. For example:\n",
        "\n",
        "import logging.config\n",
        "\n",
        "logging.config.dictConfig({\n",
        "    'version': 1,\n",
        "    'formatters': {\n",
        "        'default': {\n",
        "            'format': '%(asctime)s - %(name)s - %(levelname)s - %(message)s'\n",
        "        }\n",
        "    },\n",
        "    'handlers': {\n",
        "        'console': {\n",
        "            'class': 'logging.StreamHandler',\n",
        "            'formatter': 'default'\n",
        "        },\n",
        "        'file': {\n",
        "            'class': 'logging.FileHandler',\n",
        "            'filename': 'log.txt',\n",
        "            'formatter': 'default'\n",
        "        }\n",
        "    },\n",
        "    'root': {\n",
        "        'level': 'INFO',\n",
        "        'handlers': ['console', 'file']\n",
        "    }\n",
        "})"
      ],
      "metadata": {
        "id": "aNfLRV19q0rY"
      },
      "execution_count": null,
      "outputs": []
    },
    {
      "cell_type": "markdown",
      "source": [
        "**8  Write a program to handle a file opening error using exception handling**"
      ],
      "metadata": {
        "id": "aEAKsaaOrWKg"
      }
    },
    {
      "cell_type": "code",
      "source": [
        "#Here is a simple Python program that handles a file opening error using exception handling:\n",
        "\n",
        "def open_file(filename):\n",
        "    try:\n",
        "        file = open(filename, 'r')\n",
        "        print(\"File opened successfully.\")\n",
        "        file.close()\n",
        "    except FileNotFoundError:\n",
        "        print(f\"File '{filename}' not found.\")\n",
        "    except PermissionError:\n",
        "        print(f\"Permission denied to open file '{filename}'.\")\n",
        "    except OSError as e:\n",
        "        print(f\"An error occurred while opening file '{filename}': {e}\")\n",
        "    except Exception as e:\n",
        "        print(f\"An unexpected error occurred: {e}\")\n",
        "\n",
        "# Test the function\n",
        "open_file('non_existent_file.txt')\n"
      ],
      "metadata": {
        "id": "jGdLsxaBreMg"
      },
      "execution_count": null,
      "outputs": []
    },
    {
      "cell_type": "markdown",
      "source": [
        "**9  How can you read a file line by line and store its content in a list in Python**"
      ],
      "metadata": {
        "id": "oark4xglrnsY"
      }
    },
    {
      "cell_type": "code",
      "source": [
        "#You can read a file line by line and store its content in a list in Python using the following methods:\n",
        "\n",
        "#Method 1: Using a for loop\n",
        "\n",
        "with open('file.txt', 'r') as file:\n",
        "    lines = []\n",
        "    for line in file:\n",
        "        lines.append(line.strip())\n",
        "\n",
        "print(lines)\n",
        "\n",
        "#This method reads the file line by line using a for loop and appends each line to the lines list after removing any trailing newlines using the strip() method.\n",
        "\n",
        "#Method 2: Using a list comprehension\n",
        "\n",
        "with open('file.txt', 'r') as file:\n",
        "    lines = [line.strip() for line in file]\n",
        "\n",
        "print(lines)\n",
        "\n",
        "#This method uses a list comprehension to read the file line by line and create a list of lines with trailing newlines removed.\n",
        "\n",
        "#Method 3: Using the readlines() method\n",
        "\n",
        "with open('file.txt', 'r') as file:\n",
        "    lines = file.readlines()\n",
        "\n",
        "lines = [line.strip() for line in lines]\n",
        "\n",
        "print(lines)\n",
        "\n",
        "#This method reads the entire file into a list of lines using the readlines() method and then strips any trailing newlines from each line using a list comprehension.\n"
      ],
      "metadata": {
        "id": "_1xpixzUrp0Q"
      },
      "execution_count": null,
      "outputs": []
    },
    {
      "cell_type": "markdown",
      "source": [
        "**10 How can you append data to an existing file in Python**"
      ],
      "metadata": {
        "id": "kfuf6wm_r_d5"
      }
    },
    {
      "cell_type": "code",
      "source": [
        "#You can append data to an existing file in Python by opening the file in append mode ('a') instead of write mode ('w'). Here are a few ways to do it:\n",
        "\n",
        "#Method 1: Using the open() function\n",
        "\n",
        "with open('file.txt', 'a') as file:\n",
        "    file.write('New data to append\\n')\n",
        "\n",
        "#This will open the file in append mode and write the new data to the end of the file.\n",
        "\n",
        "#Method 2: Using the print() function with the file argument\n",
        "\n",
        "with open('file.txt', 'a') as file:\n",
        "    print('New data to append', file=file)\n",
        "\n",
        "#This will also open the file in append mode and write the new data to the end of the file.\n",
        "\n",
        "#Method 3: Using the write() method with the open() function\n",
        "\n",
        "file = open('file.txt', 'a')\n",
        "file.write('New data to append\\n')\n",
        "file.close()\n"
      ],
      "metadata": {
        "id": "WmzGWhM_sDMx"
      },
      "execution_count": null,
      "outputs": []
    },
    {
      "cell_type": "markdown",
      "source": [
        "**11  Write a Python program that uses a try-except block to handle an error when attempting to access a\n",
        "dictionary key that doesn't exist**"
      ],
      "metadata": {
        "id": "Q953veC8sUho"
      }
    },
    {
      "cell_type": "code",
      "source": [
        "#Here's a simple Python program that uses a try-except block to handle an error when attempting to access a dictionary key that doesn't exist:\n",
        "\n",
        "# Define a dictionary\n",
        "my_dict = {'name': 'John', 'age': 30}\n",
        "\n",
        "try:\n",
        "    # Attempt to access a key that doesn't exist\n",
        "    print(my_dict['city'])\n",
        "except KeyError:\n",
        "    # Handle the KeyError exception\n",
        "    print(\"Error: The 'city' key does not exist in the dictionary.\")\n",
        "\n",
        "print(\"Program execution continues...\")\n",
        "\n",
        "#In this program, we define a dictionary my_dict with two keys: 'name' and 'age'. We then attempt to access a key 'city' that doesn't exist in the dictionary using the print(my_dict['city']) statement.\n",
        "\n",
        "#When Python encounters this statement, it raises a KeyError exception because the 'city' key doesn't exist in the dictionary. The try-except block catches this exception and executes the code in the except block, which prints an error message indicating that the 'city' key doesn't exist in the dictionary.\n",
        "\n",
        "#After handling the exception, the program continues to execute and prints the message \"Program execution continues...\".\n",
        "\n",
        "#Note that we can also use the dict.get() method to access a dictionary key without raising a KeyError exception. Here's an example:\n",
        "\n",
        "# Define a dictionary\n",
        "my_dict = {'name': 'John', 'age': 30}\n",
        "\n",
        "# Use the dict.get() method to access a key that may not exist\n",
        "city = my_dict.get('city', 'Not available')\n",
        "print(city)\n"
      ],
      "metadata": {
        "id": "IMRQEpVTsXoZ"
      },
      "execution_count": null,
      "outputs": []
    },
    {
      "cell_type": "markdown",
      "source": [
        "**12  Write a program that demonstrates using multiple except blocks to handle different types of exceptions**"
      ],
      "metadata": {
        "id": "NDciLHKeskMK"
      }
    },
    {
      "cell_type": "code",
      "source": [
        "#Here's a Python program that demonstrates using multiple except blocks to handle different types of exceptions:\n",
        "\n",
        "def divide(x, y):\n",
        "    try:\n",
        "        result = x / y\n",
        "        return result\n",
        "    except ZeroDivisionError:\n",
        "        print(\"Error: Division by zero is not allowed.\")\n",
        "    except TypeError:\n",
        "        print(\"Error: Invalid input type. Please enter a number.\")\n",
        "    except Exception as e:\n",
        "        print(f\"An unexpected error occurred: {e}\")\n",
        "\n",
        "# Test the function with different inputs\n",
        "print(divide(10, 2))  # Successful division\n",
        "print(divide(10, 0))  # Division by zero\n",
        "print(divide(10, 'a'))  # Invalid input type\n",
        "print(divide(10, None))  # Unexpected error\n"
      ],
      "metadata": {
        "id": "NYZ6ZO_QsohY"
      },
      "execution_count": null,
      "outputs": []
    },
    {
      "cell_type": "markdown",
      "source": [
        "**13 How would you check if a file exists before attempting to read it in Python**"
      ],
      "metadata": {
        "id": "CcV6SLBts2Kh"
      }
    },
    {
      "cell_type": "code",
      "source": [
        "#You can check if a file exists before attempting to read it in Python using the following methods:\n",
        "\n",
        "#1. Using the os.path.exists() function:\n",
        "\n",
        "import os\n",
        "\n",
        "file_path = 'path/to/your/file.txt'\n",
        "if os.path.exists(file_path):\n",
        "    print(\"File exists\")\n",
        "else:\n",
        "    print(\"File does not exist\")\n",
        "\n",
        "#This function returns True if the file exists and False otherwise.\n",
        "\n",
        "#1. Using the os.path.isfile() function:\n",
        "\n",
        "import os\n",
        "\n",
        "file_path = 'path/to/your/file.txt'\n",
        "if os.path.isfile(file_path):\n",
        "    print(\"File exists\")\n",
        "else:\n",
        "    print(\"File does not exist or is not a file\")\n",
        "\n",
        "#This function returns True if the file exists and is a regular file (not a directory) and False otherwise.\n",
        "\n",
        "#1. Using a try-except block:\n",
        "\n",
        "try:\n",
        "    with open('path/to/your/file.txt', 'r') as file:\n",
        "        print(\"File exists\")\n",
        "except FileNotFoundError:\n",
        "    print(\"File does not exist\")\n"
      ],
      "metadata": {
        "id": "L3mT3tlps5Qw"
      },
      "execution_count": null,
      "outputs": []
    },
    {
      "cell_type": "markdown",
      "source": [
        "**14 Write a program that uses the logging module to log both informational and error messages**"
      ],
      "metadata": {
        "id": "2hoVLA1qtIVR"
      }
    },
    {
      "cell_type": "code",
      "source": [
        "#Here is a simple program that uses the logging module to log both informational and error messages:\n",
        "\n",
        "import logging\n",
        "\n",
        "# Set the logging level to DEBUG\n",
        "logging.basicConfig(level=logging.DEBUG)\n",
        "\n",
        "# Log an informational message\n",
        "logging.info('This is an informational message')\n",
        "\n",
        "# Log an error message\n",
        "logging.error('This is an error message')\n",
        "\n",
        "# Log a debug message\n",
        "logging.debug('This is a debug message')\n",
        "\n",
        "# Log a warning message\n",
        "logging.warning('This is a warning message')\n",
        "\n",
        "# Log a critical message\n",
        "logging.critical('This is a critical message')\n",
        "\n",
        "try:\n",
        "    # Simulate an error\n",
        "    x = 1 / 0\n",
        "except ZeroDivisionError as e:\n",
        "    # Log the error\n",
        "    logging.error('An error occurred', exc_info=True)\n",
        "\n",
        "\"\"\"This program sets the logging level to DEBUG, which means that all messages with a level of DEBUG or higher will be logged. It then logs several messages with different levels:\n",
        "\n",
        "- logging.info: Logs an informational message.\n",
        "- logging.error: Logs an error message.\n",
        "- logging.debug: Logs a debug message.\n",
        "- logging.warning: Logs a warning message.\n",
        "- logging.critical: Logs a critical message.\n",
        "\n",
        "The program also simulates an error by attempting to divide by zero, and logs the error using logging.error. The exc_info=True parameter is used to include the exception information in the log message.\n",
        "\n",
        "When you run this program, you will see the following output:\n",
        "\n",
        "INFO:root:This is an informational message\n",
        "ERROR:root:This is an error message\n",
        "DEBUG:root:This is a debug message\n",
        "WARNING:root:This is a warning message\n",
        "CRITICAL:root:This is a critical message\n",
        "ERROR:root:An error occurred\"\"\"\n",
        "Traceback (most recent call last):\n",
        "  File \"(link unavailable)\", line 15, in <module>\n",
        "    x = 1 / 0\n",
        "#ZeroDivisionError: division by zero\n",
        "\n",
        "#This output shows the logged messages, including the error message with the exception information.\n",
        "\n",
        "#You can customize the logging output by using different logging levels, log formats, and handlers. For example, you can log messages to a file instead of the console by using a FileHandler. You can also use a RotatingFileHandler to rotate log files based on size or time.\n",
        "\n",
        "#Here is an example of how you can customize the logging output:\n",
        "\n",
        "import logging\n",
        "\n",
        "# Create a logger\n",
        "logger = logging.getLogger(__name__)\n",
        "\n",
        "# Set the logging level to DEBUG\n",
        "logger.setLevel(logging.DEBUG)\n",
        "\n",
        "# Create a file handler\n",
        "file_handler = logging.FileHandler('log.txt')\n",
        "\n",
        "# Create a formatter and set it for the file handler\n",
        "formatter = logging.Formatter('%(asctime)s - %(name)s - %(levelname)s - %(message)s')\n",
        "file_handler.setFormatter(formatter)\n",
        "\n",
        "# Add the file handler to the logger\n",
        "logger.addHandler(file_handler)\n",
        "\n",
        "# Log messages\n",
        "logger.info('This is an informational message')\n",
        "logger.error('This is an error message')\n",
        "logger.debug('This is a debug message')\n",
        "logger.warning('This is a warning message')\n",
        "logger.critical('This is a critical message')\n",
        "\n",
        "try:\n",
        "    # Simulate an error\n",
        "    x = 1 / 0\n",
        "except ZeroDivisionError as e:\n",
        "    # Log the error\n",
        "    logger.error('An error occurred', exc_info=True)\n"
      ],
      "metadata": {
        "id": "Mr7I0efktN_B"
      },
      "execution_count": null,
      "outputs": []
    },
    {
      "cell_type": "markdown",
      "source": [
        "**15  Write a Python program that prints the content of a file and handles the case when the file is empty**"
      ],
      "metadata": {
        "id": "qvy3NLtjtvDJ"
      }
    },
    {
      "cell_type": "code",
      "source": [
        "#Here's a simple Python program that prints the content of a file and handles the case when the file is empty:\n",
        "\n",
        "def print_file_content(filename):\n",
        "    try:\n",
        "        with open(filename, 'r') as file:\n",
        "            content = file.read()\n",
        "            if content:\n",
        "                print(content)\n",
        "            else:\n",
        "                print(f\"The file '{filename}' is empty.\")\n",
        "    except FileNotFoundError:\n",
        "        print(f\"The file '{filename}' does not exist.\")\n",
        "    except Exception as e:\n",
        "        print(f\"An error occurred: {e}\")\n",
        "\n",
        "# Test the function\n",
        "print_file_content('example.txt')\n",
        "\n",
        "\"\"\"In this program, we define a function print_file_content that takes a filename as an argument. The function attempts to open the file in read mode ('r') using a with statement, which ensures that the file is properly closed after it is no longer needed.\n",
        "\n",
        "We then read the content of the file using the read() method and store it in the content variable. If the content variable is not empty, we print its value. Otherwise, we print a message indicating that the file is empty.\n",
        "\n",
        "We also handle two exceptions:\n",
        "\n",
        "- FileNotFoundError: Raised when the file does not exist. We print a message indicating that the file does not exist.\n",
        "- Exception: A catch-all exception to handle any other unexpected errors. We print a message indicating that an error occurred.\n",
        "\n",
        "When you run this program, it will print the content of the file if it exists and is not empty. If the file is empty, it will print a message indicating that the file is empty. If the file does not exist, it will print a message indicating that the file does not exist.\n",
        "\n",
        "You can replace 'example.txt' with the actual path to your file.\n",
        "\n",
        "Alternatively, you can use the following code to print the content of a file line by line and handle the case when the file is empty:\"\"\"\n",
        "\n",
        "def print_file_content(filename):\n",
        "    try:\n",
        "        with open(filename, 'r') as file:\n",
        "            lines = file.readlines()\n",
        "            if lines:\n",
        "                for line in lines:\n",
        "                    print(line.strip())\n",
        "            else:\n",
        "                print(f\"The file '{filename}' is empty.\")\n",
        "    except FileNotFoundError:\n",
        "        print(f\"The file '{filename}' does not exist.\")\n",
        "    except Exception as e:\n",
        "        print(f\"An error occurred: {e}\")\n",
        "\n",
        "# Test the function\n",
        "print_file_content('example.txt')\n"
      ],
      "metadata": {
        "id": "ntAacwOWtw-o"
      },
      "execution_count": null,
      "outputs": []
    },
    {
      "cell_type": "markdown",
      "source": [
        "**16 Demonstrate how to use memory profiling to check the memory usage of a small program**"
      ],
      "metadata": {
        "id": "EoO-zoimuFEI"
      }
    },
    {
      "cell_type": "code",
      "source": [
        "#Here's an example of how to use memory profiling to check the memory usage of a small program in Python:\n",
        "\n",
        "#Program:\n",
        "\n",
        "import random\n",
        "\n",
        "def generate_random_list(size):\n",
        "    return [random.randint(0, 100) for _ in range(size)]\n",
        "\n",
        "def main():\n",
        "    list_size = 1000000\n",
        "    random_list = generate_random_list(list_size)\n",
        "    print(f\"Generated list of size {list_size}\")\n",
        "\n",
        "if __name__ == \"__main__\":\n",
        "    main()"
      ],
      "metadata": {
        "id": "68txHT9auKNQ"
      },
      "execution_count": null,
      "outputs": []
    },
    {
      "cell_type": "markdown",
      "source": [
        "**17 Write a Python program to create and write a list of numbers to a file, one number per line**"
      ],
      "metadata": {
        "id": "3_KQpR7Sue1y"
      }
    },
    {
      "cell_type": "code",
      "source": [
        "#Here's a simple Python program that creates a list of numbers and writes it to a file, one number per line:\n",
        "\n",
        "# Define the list of numbers\n",
        "numbers = [1, 2, 3, 4, 5, 6, 7, 8, 9, 10]\n",
        "\n",
        "# Define the filename\n",
        "filename = 'numbers.txt'\n",
        "\n",
        "# Open the file in write mode\n",
        "with open(filename, 'w') as file:\n",
        "    # Write each number to the file, one per line\n",
        "    for number in numbers:\n",
        "        file.write(str(number) + '\\n')\n",
        "\n",
        "print(f\"Numbers written to {filename}\")\n"
      ],
      "metadata": {
        "id": "flJj6u7EuhrY"
      },
      "execution_count": null,
      "outputs": []
    },
    {
      "cell_type": "markdown",
      "source": [
        "**18 How would you implement a basic logging setup that logs to a file with rotation after 1MB**"
      ],
      "metadata": {
        "id": "AEqITkE_uw1F"
      }
    },
    {
      "cell_type": "code",
      "source": [
        "#Here's an example of how you can implement a basic logging setup that logs to a file with rotation after 1MB using Python's built-in logging module:\n",
        "\n",
        "import logging\n",
        "from logging.handlers import RotatingFileHandler\n",
        "\n",
        "# Set up logging\n",
        "logger = logging.getLogger(__name__)\n",
        "logger.setLevel(logging.DEBUG)\n",
        "\n",
        "# Set up file handler\n",
        "file_handler = RotatingFileHandler('log_file.log', maxBytes=1*1024*1024, backupCount=5)\n",
        "file_handler.setLevel(logging.DEBUG)\n",
        "\n",
        "# Set up formatter\n",
        "formatter = logging.Formatter('%(asctime)s - %(name)s - %(levelname)s - %(message)s')\n",
        "file_handler.setFormatter(formatter)\n",
        "\n",
        "# Add file handler to logger\n",
        "logger.addHandler(file_handler)\n",
        "\n",
        "# Test logging\n",
        "logger.debug('This is a debug message')\n",
        "logger.info('This is an info message')\n",
        "logger.warning('This is a warning message')\n",
        "logger.error('This is an error message')\n",
        "logger.critical('This is a critical message')\n"
      ],
      "metadata": {
        "id": "r8fNv15_uy5I"
      },
      "execution_count": null,
      "outputs": []
    },
    {
      "cell_type": "markdown",
      "source": [
        "**19 Write a program that handles both IndexError and KeyError using a try-except block**"
      ],
      "metadata": {
        "id": "KAycVgG-vAm5"
      }
    },
    {
      "cell_type": "code",
      "source": [
        "#Here's a simple program that handles both IndexError and KeyError using a try-except block:\n",
        "\n",
        "def handle_errors():\n",
        "    # Create a dictionary\n",
        "    my_dict = {'a': 1, 'b': 2}\n",
        "\n",
        "    # Create a list\n",
        "    my_list = [1, 2, 3]\n",
        "\n",
        "    try:\n",
        "        # Attempt to access a key that doesn't exist in the dictionary\n",
        "        print(my_dict['c'])\n",
        "\n",
        "        # Attempt to access an index that doesn't exist in the list\n",
        "        print(my_list[5])\n",
        "    except KeyError as e:\n",
        "        print(f\"KeyError: {e}\")\n",
        "    except IndexError as e:\n",
        "        print(f\"IndexError: {e}\")\n",
        "\n",
        "# Call the function\n",
        "handle_errors()\n",
        "\n",
        "\"\"\"In this program, we define a function handle_errors that attempts to access a key that doesn't exist in the dictionary and an index that doesn't exist in the list.\n",
        "\n",
        "We use a try-except block to catch both KeyError and IndexError. If a KeyError occurs, we print a message indicating that the key was not found in the dictionary. If an IndexError occurs, we print a message indicating that the index was out of range.\n",
        "\n",
        "When you run this program, it will print the following output:\n",
        "\n",
        "KeyError: 'c'\n",
        "\n",
        "This is because the KeyError occurs first, and the program catches it and prints the error message. The IndexError is not reached because the program exits the try-except block after catching the KeyError.\n",
        "\n",
        "If you want to catch both errors and continue executing the program, you can use a nested try-except block:\"\"\"\n",
        "\n",
        "def handle_errors():\n",
        "    # Create a dictionary\n",
        "    my_dict = {'a': 1, 'b': 2}\n",
        "\n",
        "    # Create a list\n",
        "    my_list = [1, 2, 3]\n",
        "\n",
        "    try:\n",
        "        # Attempt to access a key that doesn't exist in the dictionary\n",
        "        try:\n",
        "            print(my_dict['c'])\n",
        "        except KeyError as e:\n",
        "            print(f\"KeyError: {e}\")\n",
        "\n",
        "        # Attempt to access an index that doesn't exist in the list\n",
        "        try:\n",
        "            print(my_list[5])\n",
        "        except IndexError as e:\n",
        "            print(f\"IndexError: {e}\")\n",
        "    except Exception as e:\n",
        "        print(f\"Unexpected error: {e}\")\n",
        "\n",
        "# Call the function\n",
        "handle_errors()\n",
        "\n",
        "This program will print the following output:\n",
        "\n",
        "KeyError: 'c'\n",
        "IndexError: list index out of range\n"
      ],
      "metadata": {
        "id": "qhKyQ058vCHw"
      },
      "execution_count": null,
      "outputs": []
    },
    {
      "cell_type": "markdown",
      "source": [
        "**20 How would you open a file and read its contents using a context manager in Python**"
      ],
      "metadata": {
        "id": "Hu-jXRNhvbWg"
      }
    },
    {
      "cell_type": "markdown",
      "source": [
        "You can open a file and read its contents using a context manager in Python by using the with statement. Here's an example:\n",
        "\n",
        "with open('file.txt', 'r') as file:\n",
        "    contents = file.read()\n",
        "    print(contents)\n",
        "\n",
        "In this example, the with statement is used to create a context manager that opens the file file.txt in read-only mode ('r'). The file object is assigned to the variable file.\n",
        "\n",
        "When the with block is entered, the file is opened, and when the block is exited, the file is automatically closed, regardless of whether an exception is thrown or not.\n",
        "\n",
        "Inside the with block, you can read the contents of the file using the read() method, which returns the entire contents of the file as a string.\n",
        "\n",
        "Using a context manager to open a file has several benefits:\n",
        "\n",
        "- It ensures that the file is properly closed after it is no longer needed, which helps prevent file descriptor leaks.\n",
        "- It makes the code more readable and easier to maintain.\n",
        "- It reduces the risk of forgetting to close the file, which can lead to unexpected behavior or errors.\n",
        "\n",
        "You can also use the with statement to open multiple files simultaneously, like this:\n",
        "\n",
        "with open('file1.txt', 'r') as file1, open('file2.txt', 'r') as file2:\n",
        "    contents1 = file1.read()\n",
        "    contents2 = file2.read()\n",
        "    print(contents1)\n",
        "    print(contents2)\n",
        "\n",
        "This can be useful when you need to read from multiple files at the same time.\n",
        "\n",
        "Note that you can also use other modes when opening a file, such as:\n",
        "\n",
        "- 'w': Write-only mode. If the file does not exist, it will be created. If it does exist, its contents will be overwritten.\n",
        "- 'a': Append-only mode. If the file does not exist, it will be created. If it does exist, new data will be appended to the end of the file.\n",
        "- 'x': Exclusive creation mode. If the file does not exist, it will be created. If it does exist, the operation will fail.\n",
        "- 'r+': Read and write mode. The file must exist.\n",
        "- 'w+': Read and write mode. If the file does not exist, it will be created. If it does exist, its contents will be overwritten.\n",
        "- 'a+': Read and append mode. If the file does not exist, it will be created. If it does exist, new data will be appended to the end of the file."
      ],
      "metadata": {
        "id": "Kzl5ObjIvo9J"
      }
    },
    {
      "cell_type": "markdown",
      "source": [
        "**21 Write a Python program that reads a file and prints the number of occurrences of a specific word**"
      ],
      "metadata": {
        "id": "-FCQTmQyvtSx"
      }
    },
    {
      "cell_type": "code",
      "source": [
        "#Here is a simple Python program that reads a file and prints the number of occurrences of a specific word:\n",
        "\n",
        "def count_word_occurrences(file_name, word):\n",
        "    try:\n",
        "        with open(file_name, 'r') as file:\n",
        "            text = file.read()\n",
        "            words = text.split()\n",
        "            word_count = words.count(word.lower())\n",
        "            print(f\"The word '{word}' occurs {word_count} times in the file.\")\n",
        "    except FileNotFoundError:\n",
        "        print(f\"The file '{file_name}' does not exist.\")\n",
        "\n",
        "# Test the function\n",
        "file_name = 'example.txt'\n",
        "word = 'the'\n",
        "count_word_occurrences(file_name, word)\n"
      ],
      "metadata": {
        "id": "PzCadxt1vdMw"
      },
      "execution_count": null,
      "outputs": []
    },
    {
      "cell_type": "markdown",
      "source": [
        "**22 How can you check if a file is empty before attempting to read its contents**"
      ],
      "metadata": {
        "id": "mhgvL5myv7ey"
      }
    },
    {
      "cell_type": "code",
      "source": [
        "#You can check if a file is empty before attempting to read its contents using the following methods:\n",
        "\n",
        "1. Check the file size:\n",
        "\n",
        "import os\n",
        "\n",
        "file_path = 'path/to/your/file.txt'\n",
        "if os.path.getsize(file_path) == 0:\n",
        "    print(\"The file is empty\")\n",
        "else:\n",
        "    with open(file_path, 'r') as file:\n",
        "        contents = file.read()\n",
        "        print(contents)\n"
      ],
      "metadata": {
        "id": "MkHqRbSgv9iX"
      },
      "execution_count": null,
      "outputs": []
    },
    {
      "cell_type": "markdown",
      "source": [
        "**23 Write a Python program that writes to a log file when an error occurs during file handling.**"
      ],
      "metadata": {
        "id": "v2abAz5wwL7h"
      }
    },
    {
      "cell_type": "code",
      "source": [
        "#Here's a simple Python program that writes to a log file when an error occurs during file handling:\n",
        "\n",
        "import logging\n",
        "\n",
        "# Set up logging\n",
        "logging.basicConfig(filename='error.log', level=logging.ERROR)\n",
        "\n",
        "def write_to_file(file_name, content):\n",
        "    try:\n",
        "        with open(file_name, 'w') as file:\n",
        "            file.write(content)\n",
        "    except FileNotFoundError:\n",
        "        logging.error(f\"File '{file_name}' not found.\")\n",
        "    except PermissionError:\n",
        "        logging.error(f\"Permission denied to write to file '{file_name}'.\")\n",
        "    except Exception as e:\n",
        "        logging.error(f\"An error occurred while writing to file '{file_name}': {e}\")\n",
        "\n",
        "# Test the function\n",
        "write_to_file('test.txt', 'Hello, world!')\n",
        "write_to_file('/non-existent-file.txt', 'This should raise an error.')\n"
      ],
      "metadata": {
        "id": "uD9fS_h3wRen"
      },
      "execution_count": null,
      "outputs": []
    }
  ]
}